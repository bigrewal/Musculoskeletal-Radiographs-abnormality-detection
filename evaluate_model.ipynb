{
 "cells": [
  {
   "cell_type": "markdown",
   "metadata": {},
   "source": [
    "### 1. Load Trained Model"
   ]
  },
  {
   "cell_type": "code",
   "execution_count": 1,
   "metadata": {},
   "outputs": [],
   "source": [
    "import warnings\n",
    "warnings.filterwarnings('ignore')  # Ignore python warnings"
   ]
  },
  {
   "cell_type": "code",
   "execution_count": 2,
   "metadata": {},
   "outputs": [
    {
     "name": "stderr",
     "output_type": "stream",
     "text": [
      "Using TensorFlow backend.\n"
     ]
    }
   ],
   "source": [
    "from keras.models import load_model\n",
    "from keras.preprocessing.image import ImageDataGenerator\n",
    "from keras.applications.xception import preprocess_input\n",
    "import numpy as np"
   ]
  },
  {
   "cell_type": "code",
   "execution_count": 3,
   "metadata": {},
   "outputs": [],
   "source": [
    "SAVED_MODEL = \"src/xception-improvement-07-0.82.hdf5\"\n",
    "model_mura = load_model(SAVED_MODEL)"
   ]
  },
  {
   "cell_type": "markdown",
   "metadata": {},
   "source": [
    "### 2. Generate predictions"
   ]
  },
  {
   "cell_type": "code",
   "execution_count": 44,
   "metadata": {},
   "outputs": [],
   "source": [
    "#TEST_DIR = \"test_dir/\"\n",
    "TEST_DIR = \"MURA-v1.1/valid/\"\n",
    "input_shape = 320\n",
    "batch_size = 1"
   ]
  },
  {
   "cell_type": "code",
   "execution_count": 45,
   "metadata": {},
   "outputs": [],
   "source": [
    "# rescale=1. / 255,"
   ]
  },
  {
   "cell_type": "code",
   "execution_count": null,
   "metadata": {},
   "outputs": [],
   "source": [
    "test_datagen = ImageDataGenerator(\n",
    "    rescale=1. / 255,\n",
    "    preprocessing_function=preprocess_input )\n",
    "\n",
    "test_generator = test_datagen.flow_from_directory(\n",
    "        TEST_DIR,\n",
    "        target_size=(input_shape, input_shape),\n",
    "        batch_size=batch_size,\n",
    "        class_mode=None,\n",
    "        shuffle=False)"
   ]
  },
  {
   "cell_type": "code",
   "execution_count": null,
   "metadata": {},
   "outputs": [],
   "source": [
    "print(test_generator.class_indices)"
   ]
  },
  {
   "cell_type": "code",
   "execution_count": 48,
   "metadata": {},
   "outputs": [],
   "source": [
    "predictions = model_mura.predict_generator(test_generator, steps=3197//1)"
   ]
  },
  {
   "cell_type": "code",
   "execution_count": 49,
   "metadata": {},
   "outputs": [],
   "source": [
    "predictions = predictions.flatten()"
   ]
  },
  {
   "cell_type": "code",
   "execution_count": 50,
   "metadata": {},
   "outputs": [],
   "source": [
    "y_true = test_generator.classes"
   ]
  },
  {
   "cell_type": "code",
   "execution_count": 51,
   "metadata": {},
   "outputs": [
    {
     "name": "stdout",
     "output_type": "stream",
     "text": [
      "(3197,)\n",
      "(3197,)\n"
     ]
    }
   ],
   "source": [
    "print(predictions.shape)\n",
    "print(y_true.shape)"
   ]
  },
  {
   "cell_type": "code",
   "execution_count": 55,
   "metadata": {},
   "outputs": [
    {
     "name": "stdout",
     "output_type": "stream",
     "text": [
      "['XR_ELBOW/patient11189/study1_positive/image1.png', 'XR_ELBOW/patient11189/study1_positive/image2.png', 'XR_ELBOW/patient11189/study1_positive/image3.png', 'XR_ELBOW/patient11189/study1_positive/image4.png']\n",
      "0.0\n"
     ]
    }
   ],
   "source": [
    "print( test_generator.filenames[5:9] )\n",
    "print( np.round(np.mean(predictions[5:9])) )"
   ]
  },
  {
   "cell_type": "markdown",
   "metadata": {},
   "source": [
    "### 3. Split the predictions based on study types"
   ]
  },
  {
   "cell_type": "code",
   "execution_count": 16,
   "metadata": {},
   "outputs": [],
   "source": [
    "# ABNORMAL_XR_ELBOW_patient11186_study1_positive_image1.png\n",
    "\n",
    "ELBOW_STUDY = \"ELBOW\"\n",
    "FINGER_STUDY = \"FINGER\"\n",
    "FOREARM_STUDY = \"FOREARM\"\n",
    "HAND_STUDY = \"HAND\"\n",
    "HUMERUS_STUDY = \"HUMERUS\"\n",
    "SHOULDER_STUDY = \"SHOULDER\"\n",
    "WRIST_STUDY = \"WRIST\"\n",
    "\n",
    "elbow_pred = []\n",
    "elbow_true = []\n",
    "finger_pred = []\n",
    "finger_true = []\n",
    "forearm_pred = []\n",
    "forearm_true = []\n",
    "hand_pred = []\n",
    "hand_true = []\n",
    "humerus_pred = []\n",
    "humerus_true = []\n",
    "shoulder_pred = []\n",
    "shoulder_true = []\n",
    "wrist_pred = []\n",
    "wrist_true = []\n",
    "\n",
    "def extract_studies(predictions, filenames):\n",
    "    for index, fileName in enumerate(filenames):\n",
    "        if ELBOW_STUDY in fileName:\n",
    "            elbow_pred.append(predictions[index])\n",
    "            elbow_true.append(y_true[index])\n",
    "            \n",
    "        elif FINGER_STUDY in fileName:\n",
    "            finger_pred.append(predictions[index])\n",
    "            finger_true.append(y_true[index])\n",
    "            \n",
    "        elif FOREARM_STUDY in fileName:\n",
    "            forearm_pred.append(predictions[index])\n",
    "            forearm_true.append(y_true[index])\n",
    "        \n",
    "        elif HAND_STUDY in fileName:\n",
    "            hand_pred.append(predictions[index])\n",
    "            hand_true.append(y_true[index])\n",
    "        \n",
    "        elif HUMERUS_STUDY in fileName:\n",
    "            humerus_pred.append(predictions[index])\n",
    "            humerus_true.append(y_true[index])\n",
    "                \n",
    "        elif SHOULDER_STUDY in fileName:\n",
    "            shoulder_pred.append(predictions[index])\n",
    "            shoulder_true.append(y_true[index])\n",
    "        \n",
    "        elif WRIST_STUDY in fileName:\n",
    "            wrist_pred.append(predictions[index])\n",
    "            wrist_true.append(y_true[index])"
   ]
  },
  {
   "cell_type": "code",
   "execution_count": 17,
   "metadata": {},
   "outputs": [],
   "source": [
    "extract_studies(predictions, test_generator.filenames)"
   ]
  },
  {
   "cell_type": "markdown",
   "metadata": {},
   "source": [
    "### 4. Calculate the Metrics"
   ]
  },
  {
   "cell_type": "code",
   "execution_count": 18,
   "metadata": {},
   "outputs": [],
   "source": [
    "from src.metrics import print_all_metrics"
   ]
  },
  {
   "cell_type": "code",
   "execution_count": 19,
   "metadata": {},
   "outputs": [
    {
     "name": "stdout",
     "output_type": "stream",
     "text": [
      "===== ELBOW ======\n",
      "roc_auc_score:  0.8655411655874191\n",
      "Sensitivity:  0.9702127659574468\n",
      "Specificity:  0.7608695652173914\n",
      "Cohen-Cappa-Score:  0.7327090673094752\n",
      "F1 Score:  0.8803088803088802\n"
     ]
    }
   ],
   "source": [
    "print(\"===== ELBOW ======\")\n",
    "print_all_metrics(elbow_true,elbow_pred)"
   ]
  },
  {
   "cell_type": "code",
   "execution_count": 23,
   "metadata": {},
   "outputs": [
    {
     "name": "stdout",
     "output_type": "stream",
     "text": [
      "===== FINGER ======\n",
      "roc_auc_score:  0.7782454879110069\n",
      "Sensitivity:  0.8925233644859814\n",
      "Specificity:  0.6639676113360324\n",
      "Cohen-Cappa-Score:  0.546259842519685\n",
      "F1 Score:  0.7827868852459016\n"
     ]
    }
   ],
   "source": [
    "print(\"===== FINGER ======\")\n",
    "print_all_metrics(finger_true,finger_pred)"
   ]
  },
  {
   "cell_type": "code",
   "execution_count": 24,
   "metadata": {},
   "outputs": [
    {
     "name": "stdout",
     "output_type": "stream",
     "text": [
      "===== FOREARM ======\n",
      "roc_auc_score:  0.8475496688741722\n",
      "Sensitivity:  0.96\n",
      "Specificity:  0.7350993377483444\n",
      "Cohen-Cappa-Score:  0.6945780209114572\n",
      "F1 Score:  0.8622754491017965\n"
     ]
    }
   ],
   "source": [
    "print(\"===== FOREARM ======\")\n",
    "print_all_metrics(forearm_true,forearm_pred)"
   ]
  },
  {
   "cell_type": "code",
   "execution_count": 25,
   "metadata": {},
   "outputs": [
    {
     "name": "stdout",
     "output_type": "stream",
     "text": [
      "===== HAND ======\n",
      "roc_auc_score:  0.7469005642437376\n",
      "Sensitivity:  0.959409594095941\n",
      "Specificity:  0.5343915343915344\n",
      "Cohen-Cappa-Score:  0.5262369439474013\n",
      "F1 Score:  0.840064620355412\n"
     ]
    }
   ],
   "source": [
    "print(\"===== HAND ======\")\n",
    "print_all_metrics(hand_true,hand_pred)"
   ]
  },
  {
   "cell_type": "code",
   "execution_count": 26,
   "metadata": {},
   "outputs": [
    {
     "name": "stdout",
     "output_type": "stream",
     "text": [
      "===== HUMERUS ======\n",
      "roc_auc_score:  0.8754826254826255\n",
      "Sensitivity:  0.8581081081081081\n",
      "Specificity:  0.8928571428571429\n",
      "Cohen-Cappa-Score:  0.7500964134207482\n",
      "F1 Score:  0.8758620689655172\n"
     ]
    }
   ],
   "source": [
    "print(\"===== HUMERUS ======\")\n",
    "print_all_metrics(humerus_true,humerus_pred)"
   ]
  },
  {
   "cell_type": "code",
   "execution_count": 27,
   "metadata": {},
   "outputs": [
    {
     "name": "stdout",
     "output_type": "stream",
     "text": [
      "===== SHOULDER ======\n",
      "roc_auc_score:  0.7810299129117759\n",
      "Sensitivity:  0.8210526315789474\n",
      "Specificity:  0.7410071942446043\n",
      "Cohen-Cappa-Score:  0.5625817210210153\n",
      "F1 Score:  0.7918781725888325\n"
     ]
    }
   ],
   "source": [
    "print(\"===== SHOULDER ======\")\n",
    "print_all_metrics(shoulder_true, shoulder_pred)"
   ]
  },
  {
   "cell_type": "code",
   "execution_count": 28,
   "metadata": {},
   "outputs": [
    {
     "name": "stdout",
     "output_type": "stream",
     "text": [
      "===== WRIST ======\n",
      "roc_auc_score:  0.8414648910411623\n",
      "Sensitivity:  0.9642857142857143\n",
      "Specificity:  0.7186440677966102\n",
      "Cohen-Cappa-Score:  0.6986424046110609\n",
      "F1 Score:  0.8796992481203008\n"
     ]
    }
   ],
   "source": [
    "print(\"===== WRIST ======\")\n",
    "print_all_metrics(wrist_true,wrist_pred)"
   ]
  },
  {
   "cell_type": "code",
   "execution_count": 29,
   "metadata": {},
   "outputs": [],
   "source": [
    "from sklearn.metrics import confusion_matrix"
   ]
  },
  {
   "cell_type": "code",
   "execution_count": 30,
   "metadata": {},
   "outputs": [
    {
     "data": {
      "text/plain": [
       "array([[1094,  436],\n",
       "       [ 132, 1535]])"
      ]
     },
     "execution_count": 30,
     "metadata": {},
     "output_type": "execute_result"
    }
   ],
   "source": [
    "confusion_matrix(y_true, predictions)"
   ]
  },
  {
   "cell_type": "code",
   "execution_count": null,
   "metadata": {},
   "outputs": [],
   "source": []
  }
 ],
 "metadata": {
  "kernelspec": {
   "display_name": "Python 3",
   "language": "python",
   "name": "python3"
  },
  "language_info": {
   "codemirror_mode": {
    "name": "ipython",
    "version": 3
   },
   "file_extension": ".py",
   "mimetype": "text/x-python",
   "name": "python",
   "nbconvert_exporter": "python",
   "pygments_lexer": "ipython3",
   "version": "3.6.1"
  }
 },
 "nbformat": 4,
 "nbformat_minor": 2
}
