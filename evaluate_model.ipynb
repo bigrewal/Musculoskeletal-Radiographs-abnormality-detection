{
 "cells": [
  {
   "cell_type": "markdown",
   "metadata": {},
   "source": [
    "### 1. Load Trained Model"
   ]
  },
  {
   "cell_type": "code",
   "execution_count": null,
   "metadata": {},
   "outputs": [],
   "source": [
    "import warnings\n",
    "warnings.filterwarnings('ignore')  # Ignore python warnings"
   ]
  },
  {
   "cell_type": "code",
   "execution_count": null,
   "metadata": {},
   "outputs": [],
   "source": [
    "from keras.models import load_model\n",
    "from keras.preprocessing.image import ImageDataGenerator\n",
    "from keras.applications.xception import preprocess_input\n",
    "import numpy as np"
   ]
  },
  {
   "cell_type": "code",
   "execution_count": null,
   "metadata": {},
   "outputs": [],
   "source": [
    "print( \"Loading Model\" )\n",
    "SAVED_MODEL = \"src/xception_v2-improvement-06-0.82.hdf5\"\n",
    "model_mura = load_model(SAVED_MODEL)\n",
    "print(\"Model Loaded!\")"
   ]
  },
  {
   "cell_type": "markdown",
   "metadata": {},
   "source": [
    "### 2. Generate predictions"
   ]
  },
  {
   "cell_type": "code",
   "execution_count": null,
   "metadata": {},
   "outputs": [],
   "source": [
    "TEST_DIR = \"../MURA-v1.1/valid/\"\n",
    "input_shape = 320\n",
    "batch_size = 1"
   ]
  },
  {
   "cell_type": "code",
   "execution_count": null,
   "metadata": {},
   "outputs": [],
   "source": [
    "test_datagen = ImageDataGenerator(\n",
    "    rescale=1. / 255,\n",
    "    preprocessing_function=preprocess_input )\n",
    "\n",
    "test_generator = test_datagen.flow_from_directory(\n",
    "        TEST_DIR,\n",
    "        target_size=(input_shape, input_shape),\n",
    "        batch_size=batch_size,\n",
    "        class_mode=None,\n",
    "        shuffle=False)"
   ]
  },
  {
   "cell_type": "code",
   "execution_count": null,
   "metadata": {},
   "outputs": [],
   "source": [
    "#print(test_generator.class_indices)"
   ]
  },
  {
   "cell_type": "code",
   "execution_count": null,
   "metadata": {},
   "outputs": [],
   "source": [
    "import time\n",
    "start = time.time()\n",
    "\n",
    "predictions = model_mura.predict_generator(test_generator, steps=3197//1)\n",
    "\n",
    "end = time.time()\n",
    "print(\"It took: \", end - start)"
   ]
  },
  {
   "cell_type": "code",
   "execution_count": null,
   "metadata": {},
   "outputs": [],
   "source": [
    "predictions = predictions.flatten()"
   ]
  },
  {
   "cell_type": "code",
   "execution_count": null,
   "metadata": {},
   "outputs": [],
   "source": [
    "#y_true = test_generator.classes"
   ]
  },
  {
   "cell_type": "code",
   "execution_count": null,
   "metadata": {},
   "outputs": [],
   "source": [
    "print(predictions.shape)\n",
    "#print(y_true.shape)"
   ]
  },
  {
   "cell_type": "code",
   "execution_count": null,
   "metadata": {},
   "outputs": [],
   "source": [
    "predictions = np.round(predictions)"
   ]
  },
  {
   "cell_type": "markdown",
   "metadata": {},
   "source": [
    "### 3. Split the predictions based on study types"
   ]
  },
  {
   "cell_type": "code",
   "execution_count": null,
   "metadata": {},
   "outputs": [],
   "source": [
    "# ABNORMAL_XR_ELBOW_patient11186_study1_positive_image1.png\n",
    "\n",
    "ELBOW_STUDY = \"ELBOW\"\n",
    "FINGER_STUDY = \"FINGER\"\n",
    "FOREARM_STUDY = \"FOREARM\"\n",
    "HAND_STUDY = \"HAND\"\n",
    "HUMERUS_STUDY = \"HUMERUS\"\n",
    "SHOULDER_STUDY = \"SHOULDER\"\n",
    "WRIST_STUDY = \"WRIST\"\n",
    "\n",
    "elbow_pred = []\n",
    "elbow_true = []\n",
    "finger_pred = []\n",
    "finger_true = []\n",
    "forearm_pred = []\n",
    "forearm_true = []\n",
    "hand_pred = []\n",
    "hand_true = []\n",
    "humerus_pred = []\n",
    "humerus_true = []\n",
    "shoulder_pred = []\n",
    "shoulder_true = []\n",
    "wrist_pred = []\n",
    "wrist_true = []\n",
    "\n",
    "def extract_studies(predictions, filenames):\n",
    "    for index, fileName in enumerate(filenames):\n",
    "        if ELBOW_STUDY in fileName:\n",
    "            elbow_pred.append(predictions[index])\n",
    "            elbow_true.append(y_true[index])\n",
    "            \n",
    "        elif FINGER_STUDY in fileName:\n",
    "            finger_pred.append(predictions[index])\n",
    "            finger_true.append(y_true[index])\n",
    "            \n",
    "        elif FOREARM_STUDY in fileName:\n",
    "            forearm_pred.append(predictions[index])\n",
    "            forearm_true.append(y_true[index])\n",
    "        \n",
    "        elif HAND_STUDY in fileName:\n",
    "            hand_pred.append(predictions[index])\n",
    "            hand_true.append(y_true[index])\n",
    "        \n",
    "        elif HUMERUS_STUDY in fileName:\n",
    "            humerus_pred.append(predictions[index])\n",
    "            humerus_true.append(y_true[index])\n",
    "                \n",
    "        elif SHOULDER_STUDY in fileName:\n",
    "            shoulder_pred.append(predictions[index])\n",
    "            shoulder_true.append(y_true[index])\n",
    "        \n",
    "        elif WRIST_STUDY in fileName:\n",
    "            wrist_pred.append(predictions[index])\n",
    "            wrist_true.append(y_true[index])"
   ]
  },
  {
   "cell_type": "code",
   "execution_count": null,
   "metadata": {},
   "outputs": [],
   "source": [
    "extract_studies(predictions, test_generator.filenames)"
   ]
  },
  {
   "cell_type": "markdown",
   "metadata": {},
   "source": [
    "### 4. Calculate the Metrics based on study type per image."
   ]
  },
  {
   "cell_type": "code",
   "execution_count": null,
   "metadata": {},
   "outputs": [],
   "source": [
    "from src.metrics import print_all_metrics"
   ]
  },
  {
   "cell_type": "code",
   "execution_count": null,
   "metadata": {},
   "outputs": [],
   "source": [
    "print(\"===== ELBOW ======\")\n",
    "print_all_metrics(elbow_true,elbow_pred)"
   ]
  },
  {
   "cell_type": "code",
   "execution_count": null,
   "metadata": {},
   "outputs": [],
   "source": [
    "print(\"===== FINGER ======\")\n",
    "print_all_metrics(finger_true,finger_pred)"
   ]
  },
  {
   "cell_type": "code",
   "execution_count": null,
   "metadata": {},
   "outputs": [],
   "source": [
    "print(\"===== FOREARM ======\")\n",
    "print_all_metrics(forearm_true,forearm_pred)"
   ]
  },
  {
   "cell_type": "code",
   "execution_count": null,
   "metadata": {},
   "outputs": [],
   "source": [
    "print(\"===== HAND ======\")\n",
    "print_all_metrics(hand_true,hand_pred)"
   ]
  },
  {
   "cell_type": "code",
   "execution_count": null,
   "metadata": {},
   "outputs": [],
   "source": [
    "print(\"===== HUMERUS ======\")\n",
    "print_all_metrics(humerus_true,humerus_pred)"
   ]
  },
  {
   "cell_type": "code",
   "execution_count": null,
   "metadata": {},
   "outputs": [],
   "source": [
    "print(\"===== SHOULDER ======\")\n",
    "print_all_metrics(shoulder_true, shoulder_pred)"
   ]
  },
  {
   "cell_type": "code",
   "execution_count": null,
   "metadata": {},
   "outputs": [],
   "source": [
    "print(\"===== WRIST ======\")\n",
    "print_all_metrics(wrist_true,wrist_pred)"
   ]
  },
  {
   "cell_type": "code",
   "execution_count": null,
   "metadata": {},
   "outputs": [],
   "source": [
    "from sklearn.metrics import confusion_matrix"
   ]
  },
  {
   "cell_type": "code",
   "execution_count": null,
   "metadata": {},
   "outputs": [],
   "source": [
    "confusion_matrix(y_true, predictions)"
   ]
  },
  {
   "cell_type": "code",
   "execution_count": null,
   "metadata": {},
   "outputs": [],
   "source": []
  }
 ],
 "metadata": {
  "kernelspec": {
   "display_name": "Python 3",
   "language": "python",
   "name": "python3"
  },
  "language_info": {
   "codemirror_mode": {
    "name": "ipython",
    "version": 3
   },
   "file_extension": ".py",
   "mimetype": "text/x-python",
   "name": "python",
   "nbconvert_exporter": "python",
   "pygments_lexer": "ipython3",
   "version": "3.6.1"
  }
 },
 "nbformat": 4,
 "nbformat_minor": 2
}
