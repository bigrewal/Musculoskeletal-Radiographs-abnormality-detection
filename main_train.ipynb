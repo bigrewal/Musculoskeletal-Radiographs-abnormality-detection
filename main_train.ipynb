{
 "cells": [
  {
   "cell_type": "code",
   "execution_count": null,
   "metadata": {},
   "outputs": [],
   "source": [
    "import warnings\n",
    "warnings.filterwarnings('ignore')  # Ignore python warnings"
   ]
  },
  {
   "cell_type": "markdown",
   "metadata": {},
   "source": [
    "### Import the dependencies"
   ]
  },
  {
   "cell_type": "code",
   "execution_count": null,
   "metadata": {},
   "outputs": [],
   "source": [
    "import numpy as np\n",
    "from sklearn.utils import class_weight"
   ]
  },
  {
   "cell_type": "markdown",
   "metadata": {},
   "source": [
    "### Get the Data"
   ]
  },
  {
   "cell_type": "code",
   "execution_count": null,
   "metadata": {},
   "outputs": [],
   "source": [
    "## Create directories for Keras ImageDataGenerator.flow_from_directory\n",
    "train_dir_abnormal = \"./train_data/abnormal\"\n",
    "train_dir_normal = \"./train_data/normal\"\n",
    "\n",
    "valid_dir_abnormal = \"./valid_data/abnormal\"\n",
    "valid_dir_normal = \"./valid_data/normal\""
   ]
  },
  {
   "cell_type": "code",
   "execution_count": null,
   "metadata": {},
   "outputs": [],
   "source": [
    "from src.data.dataloader import create_dir, load_images"
   ]
  },
  {
   "cell_type": "code",
   "execution_count": null,
   "metadata": {},
   "outputs": [],
   "source": [
    "create_dir(train_dir_abnormal)\n",
    "create_dir(train_dir_normal)"
   ]
  },
  {
   "cell_type": "code",
   "execution_count": null,
   "metadata": {},
   "outputs": [],
   "source": [
    "create_dir(valid_dir_abnormal)\n",
    "create_dir(valid_dir_normal)"
   ]
  },
  {
   "cell_type": "code",
   "execution_count": null,
   "metadata": {},
   "outputs": [],
   "source": [
    "# Load Train Images\n",
    "images_path = 'MURA-v1.1/train_image_paths.csv'\n",
    "train_image_paths = load_images(images_path)\n",
    "print(\"Training Set Images loaded!\")"
   ]
  },
  {
   "cell_type": "code",
   "execution_count": null,
   "metadata": {},
   "outputs": [],
   "source": [
    "# Load Validation set images\n",
    "images_path = 'MURA-v1.1/valid_image_paths.csv'\n",
    "train_image_paths = load_images(images_path)\n",
    "print(\"Validation Set Images loaded!\")"
   ]
  },
  {
   "cell_type": "markdown",
   "metadata": {},
   "source": [
    "### Create the Architectures"
   ]
  },
  {
   "cell_type": "code",
   "execution_count": null,
   "metadata": {},
   "outputs": [],
   "source": [
    "from keras.preprocessing.image import ImageDataGenerator\n",
    "from keras.callbacks import (ModelCheckpoint, TensorBoard)\n",
    "\n",
    "from src.model.xception import get_xception\n",
    "from src.model.dense169 import get_dense169"
   ]
  },
  {
   "cell_type": "markdown",
   "metadata": {},
   "source": [
    "#### Hyperparameters"
   ]
  },
  {
   "cell_type": "code",
   "execution_count": null,
   "metadata": {},
   "outputs": [],
   "source": [
    "input_shape = 320\n",
    "batch_size = 8\n",
    "epochs = 10\n",
    "learning_rate = 0.0001"
   ]
  },
  {
   "cell_type": "markdown",
   "metadata": {},
   "source": [
    "#### Dense169 Model"
   ]
  },
  {
   "cell_type": "code",
   "execution_count": null,
   "metadata": {},
   "outputs": [],
   "source": [
    "from keras.applications.densenet import preprocess_input\n",
    "dense169_mura_single = get_dense169(input_shape, learning_rate)"
   ]
  },
  {
   "cell_type": "markdown",
   "metadata": {},
   "source": [
    "#### Get Xception V2"
   ]
  },
  {
   "cell_type": "code",
   "execution_count": null,
   "metadata": {},
   "outputs": [],
   "source": [
    "from keras.applications.xception import preprocess_input\n",
    "xception_mura_single = get_xception(input_shape, learning_rate)"
   ]
  },
  {
   "cell_type": "markdown",
   "metadata": {},
   "source": [
    "### Start Training"
   ]
  },
  {
   "cell_type": "code",
   "execution_count": null,
   "metadata": {},
   "outputs": [],
   "source": [
    "train_datagen = ImageDataGenerator(\n",
    "        rotation_range=30,\n",
    "        horizontal_flip=True,\n",
    "        preprocessing_function=preprocess_input)\n",
    "\n",
    "train_generator = train_datagen.flow_from_directory(\n",
    "        'train_data/',\n",
    "        target_size=(input_shape, input_shape),\n",
    "        batch_size=batch_size,\n",
    "        class_mode='binary')"
   ]
  },
  {
   "cell_type": "code",
   "execution_count": null,
   "metadata": {},
   "outputs": [],
   "source": [
    "valid_datagen = ImageDataGenerator(\n",
    "    preprocessing_function=preprocess_input )\n",
    "\n",
    "valid_generator = valid_datagen.flow_from_directory(\n",
    "        'validation_data',\n",
    "        target_size=(input_shape, input_shape),\n",
    "        batch_size=batch_size,\n",
    "        class_mode='binary',\n",
    "        shuffle=False)"
   ]
  },
  {
   "cell_type": "code",
   "execution_count": null,
   "metadata": {},
   "outputs": [],
   "source": [
    "## Compute Class Weights\n",
    "weights = class_weight.compute_class_weight('balanced', np.unique(train_generator.classes), train_generator.classes)"
   ]
  },
  {
   "cell_type": "code",
   "execution_count": null,
   "metadata": {},
   "outputs": [],
   "source": [
    "filepath=\"xception_v2-improvement-{epoch:02d}-{val_acc:.2f}.hdf5\"  # Change the name based on which model is being trained\n",
    "\n",
    "checkpoint = ModelCheckpoint(filepath, monitor='val_acc', verbose=1, save_best_only=True, mode='max')\n",
    "tensorboard = TensorBoard(log_dir='./Graph', histogram_freq=0, write_graph=True, write_images=False)\n",
    "\n",
    "callbacks_list = [checkpoint, tensorboard]"
   ]
  },
  {
   "cell_type": "code",
   "execution_count": null,
   "metadata": {},
   "outputs": [],
   "source": [
    "training_data_size = len(train_generator.filenames)\n",
    "validation_data_size = len(valid_generator.filenames)\n",
    "\n",
    "print(\"Number of Training examples: \", training_data_size)\n",
    "print(\"Number of Validation examples: \", validation_data_size)"
   ]
  },
  {
   "cell_type": "markdown",
   "metadata": {},
   "source": [
    "#### Train Dense169"
   ]
  },
  {
   "cell_type": "code",
   "execution_count": null,
   "metadata": {},
   "outputs": [],
   "source": [
    "dense169_mura_single.fit_generator(train_generator,\n",
    "                        validation_data=valid_generator,\n",
    "                        steps_per_epoch=training_data_size // batch_size,\n",
    "                        class_weight=weights,\n",
    "                        callbacks=callbacks_list, \n",
    "                        validation_steps=validation_data_size // batch_size,\n",
    "                        epochs=epochs)"
   ]
  },
  {
   "cell_type": "markdown",
   "metadata": {},
   "source": [
    "#### Train Xception"
   ]
  },
  {
   "cell_type": "code",
   "execution_count": null,
   "metadata": {},
   "outputs": [],
   "source": [
    "xception_mura_single.fit_generator(train_generator,\n",
    "                        validation_data=valid_generator,\n",
    "                        steps_per_epoch=training_data_size // batch_size,\n",
    "                        class_weight=weights,\n",
    "                        callbacks=callbacks_list, \n",
    "                        validation_steps=validation_data_size // batch_size,\n",
    "                        epochs=epochs)"
   ]
  }
 ],
 "metadata": {
  "kernelspec": {
   "display_name": "Python 3",
   "language": "python",
   "name": "python3"
  },
  "language_info": {
   "codemirror_mode": {
    "name": "ipython",
    "version": 3
   },
   "file_extension": ".py",
   "mimetype": "text/x-python",
   "name": "python",
   "nbconvert_exporter": "python",
   "pygments_lexer": "ipython3",
   "version": "3.6.1"
  }
 },
 "nbformat": 4,
 "nbformat_minor": 2
}
